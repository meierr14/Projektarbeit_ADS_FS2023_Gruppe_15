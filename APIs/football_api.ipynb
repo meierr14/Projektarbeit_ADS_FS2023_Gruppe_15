{
 "cells": [
  {
   "attachments": {},
   "cell_type": "markdown",
   "metadata": {},
   "source": [
    "### Abfrage einer API Schnittstell zum sammeln von Daten\n",
    "In diesem File wir Code erstellt, der mit Hilfe einer API Daten abfragen und speichern kann. Die Daten werden zwischen gespeichert und in einem Nächsten SChritt verarbeitet und in die DB gespeichert.\n",
    "\n",
    "Folgend sieht man die benötigten Imports für diesen Teilbereich."
   ]
  },
  {
   "cell_type": "code",
   "execution_count": null,
   "metadata": {},
   "outputs": [],
   "source": [
    "import requests\n",
    "import pandas\n",
    "import json"
   ]
  },
  {
   "attachments": {},
   "cell_type": "markdown",
   "metadata": {},
   "source": [
    "### Vorbereitung der Variablen\n",
    "In folgendem Abschnitt werden alle Variablen definiert, welche benötigt werden, um die Daten zu holen und anschliessend zu speichern.\n",
    "\n",
    "Bei den drei Request handelt es sich um verschiedene URLs die sich auf eine API beziehen.\n",
    "Die Listen werden benötigt, um die Daten die von der API kommen zwischen zu speichern und weiter zu verarbeiten"
   ]
  },
  {
   "cell_type": "code",
   "execution_count": null,
   "metadata": {},
   "outputs": [],
   "source": [
    "# Alle Spieltage der UEFA Championsleague 22/23\n",
    "request1 = f'https://api.openligadb.de/getmatchdata/bl1/2022/'\n",
    "# Informationen über ein bestimmtes Spiel\n",
    "request2 = f'https://api.openligadb.de/getavailableteams/bl1/2022'\n",
    "request3 = f'https://api.openligadb.de/getbltable/bl1/2022'\n",
    "\n",
    "new_data = []\n",
    "days = []\n",
    "home_team = []\n",
    "guest_team = []"
   ]
  },
  {
   "attachments": {},
   "cell_type": "markdown",
   "metadata": {},
   "source": [
    "### 1. Request - Daten der gesamten Saison\n",
    "\n",
    "Der gegebene Codeabschnitt führt verschiedene Operationen durch, um Daten von einer API abzurufen und in eine JSON-Datei zu speichern. Hier ist eine Zusammenfassung:\n",
    "\n",
    "    1. Eine HTTP-GET-Anforderung wird an eine bestimmte URL gesendet, und die Antwort wird in der Variablen \"response\" gespeichert.\n",
    "    2. Die Antwort wird in das Python-Datenformat konvertiert und in der Variablen \"data\" gespeichert.\n",
    "    3. Eine JSON-Datei wird geöffnet, und nur die Zeilen, bei denen \"matchIsFinished\" wahr (True) ist, werden in eine neue          Datenliste kopiert.\n",
    "    4. Die gesammelten Daten werden in der JSON-Datei mit einer Einrückung von 4 gespeichert.\n",
    "\n",
    "Zusammenfassend ruft der Code eine API auf, filtert die Daten nach einem bestimmten Kriterium und speichert die gefilterten Daten in einer JSON-Datei."
   ]
  },
  {
   "cell_type": "code",
   "execution_count": null,
   "metadata": {},
   "outputs": [],
   "source": [
    "response = requests.get(url=request1)\n",
    "response.raise_for_status\n",
    "\n",
    "data = response.json()\n",
    "\n",
    "with open(f\"./APIs/JSONData/ganze_saison.json\", \"w\") as file: \n",
    "    for row in data:\n",
    "        if row['matchIsFinished']:\n",
    "            new_data.append(row)\n",
    "    json.dump(new_data, file, indent=4)"
   ]
  },
  {
   "attachments": {},
   "cell_type": "markdown",
   "metadata": {},
   "source": [
    "    1. Ein JSON-Datei wird in ein Tabellenformat umgewandelt und in einem DataFrame mit dem Namen \"df\" gespeichert.\n",
    "    2. Unnötige Spalten im DataFrame werden entfernt.\n",
    "    3. Die Zeilen im DataFrame, bei denen \"matchIsFinished\" wahr (True) ist, werden ausgewählt.\n",
    "    4. Durch Iteration über jede Datenreihe im DataFrame werden Daten in verschiedenen Listen gespeichert.\n",
    "    5. Einzelne Ergebnisse werden aus dem DataFrame extrahiert und in Variablen gespeichert.\n",
    "\n",
    "Zusammenfassend liest der Code eine JSON-Datei in ein DataFrame ein, filtert und extrahiert relevante Daten und speichert sie in Listen und Variablen."
   ]
  },
  {
   "cell_type": "code",
   "execution_count": null,
   "metadata": {},
   "outputs": [],
   "source": [
    "# Erstellt ein Datenset mit den Daten des JSON Files in Form einer Tabelle\n",
    "df = pandas.read_json(f'./APIs/JSONData/ganze_saison.json')\n",
    "\n",
    "# Entfernt Spalten die nicht benötigt werden\n",
    "df = df.drop(columns=[\"leagueId\", \"timeZoneID\", \"leagueShortcut\", \"lastUpdateDateTime\", \"location\", \"numberOfViewers\"], axis=1)\n",
    "df = df.loc[df['matchIsFinished'] == True]\n",
    "\n",
    "# Iteration durch alle Datenreihen + hinzufügen in den Listen\n",
    "for index, row in df.iterrows():\n",
    "    days.append(row['matchDateTime'])\n",
    "    home_team.append(row['team1']['teamName'])\n",
    "    guest_team.append(row['team2']['teamName'])\n",
    "\n",
    "\n",
    "results = df['matchResults'][0]\n",
    "score_team_home = results[0]['pointsTeam1']\n",
    "score_team_guest = results[0]['pointsTeam2']"
   ]
  },
  {
   "attachments": {},
   "cell_type": "markdown",
   "metadata": {},
   "source": [
    "### 2. Request - Daten aller Mannschaften\n",
    "\n",
    "    1. Es wird eine HTTP-GET-Anforderung an eine bestimmte URL gesendet, und die Antwort wird in der Variable \"response2\" gespeichert.\n",
    "    2. Die Antwort wird in das Python-Datenformat konvertiert und in der Variablen \"data2\" gespeichert.\n",
    "    3. Die Daten werden in einer JSON-Datei gespeichert."
   ]
  },
  {
   "cell_type": "code",
   "execution_count": null,
   "metadata": {},
   "outputs": [],
   "source": [
    "# Alle Manschaften dieser Saison\n",
    "response2 = requests.get(url=request2)\n",
    "response2.raise_for_status\n",
    "\n",
    "data2 = response2.json()\n",
    "\n",
    "# öffnet oder erstellt ein JSON File und speichert das Ergebniss des API calls  \n",
    "with open(f\"./APIs/JSONData/mannschaften.json\", \"w\") as file:\n",
    "    json.dump(data2, file, indent=4)"
   ]
  },
  {
   "attachments": {},
   "cell_type": "markdown",
   "metadata": {},
   "source": [
    "### 3. Request - Daten der Tabelle\n",
    "    1. Es wird eine HTTP-GET-Anforderung an eine bestimmte URL gesendet, und die Antwort wird in der Variable \"response3\" gespeichert.\n",
    "    2. Die Antwort wird in das Python-Datenformat konvertiert und in der Variablen \"data3\" gespeichert.\n",
    "    3. Die Daten werden in einer JSON-Datei gespeichert."
   ]
  },
  {
   "cell_type": "code",
   "execution_count": null,
   "metadata": {},
   "outputs": [],
   "source": [
    "# Tabelle der der aktuellen Saison\n",
    "response3 = requests.get(url=request3)\n",
    "response3.raise_for_status\n",
    "\n",
    "data3 = response3.json()\n",
    "\n",
    "# öffnet oder erstellt ein JSON File und speichert das Ergebniss des API calls  \n",
    "with open(f\"./APIs/JSONData/tabelle.json\", \"w\") as file:\n",
    "    json.dump(data3, file, indent=4)"
   ]
  }
 ],
 "metadata": {
  "kernelspec": {
   "display_name": "adsenv",
   "language": "python",
   "name": "python3"
  },
  "language_info": {
   "name": "python",
   "version": "3.10.9 | packaged by conda-forge | (main, Jan 11 2023, 15:15:40) [MSC v.1916 64 bit (AMD64)]"
  },
  "orig_nbformat": 4,
  "vscode": {
   "interpreter": {
    "hash": "cf1ba55af98fa155eb6f9507898a012b292e4dea61caf6d17930c9c692d43aca"
   }
  }
 },
 "nbformat": 4,
 "nbformat_minor": 2
}
