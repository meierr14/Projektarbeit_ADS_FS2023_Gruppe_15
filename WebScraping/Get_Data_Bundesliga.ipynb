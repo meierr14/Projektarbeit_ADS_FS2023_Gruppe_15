{
 "cells": [
  {
   "cell_type": "code",
   "execution_count": 1,
   "metadata": {},
   "outputs": [],
   "source": [
    "# Imports\n",
    "import requests\n",
    "from bs4 import BeautifulSoup\n",
    "import psycopg2"
   ]
  },
  {
   "cell_type": "code",
   "execution_count": 2,
   "metadata": {},
   "outputs": [],
   "source": [
    "# Variablen\n",
    "conn_Ok = True\n"
   ]
  },
  {
   "cell_type": "code",
   "execution_count": 3,
   "metadata": {},
   "outputs": [],
   "source": [
    "# Check if connection to DB possible\n",
    "try:\n",
    "    connection = psycopg2.connect(\n",
    "        dbname='PSQL_ADSFS2023Gruppe15',\n",
    "        user='ADSFS2023Gruppe15',\n",
    "        password='ADS_FS_2023_G15!?',\n",
    "        host='localhost',\n",
    "        port='5432'\n",
    "    )\n",
    "\n",
    "    cursor = connection.cursor()\n",
    "\n",
    "except (Exception, psycopg2.Error) as error:\n",
    "        print('Fehler beim Verbinden mit der PostgreSQL-Datenbank:', error)\n",
    "        conn_Ok = False"
   ]
  },
  {
   "cell_type": "code",
   "execution_count": 4,
   "metadata": {},
   "outputs": [],
   "source": [
    "def get_team_id(team_name):\n",
    "\n",
    "    if team_name == 'Bor. Mönchengladbach':\n",
    "        team_name = 'Borussia Mönchengladbach'\n",
    "    elif team_name == '1899 Hoffenheim':\n",
    "        team_name = 'TSG 1899 Hoffenheim'\n",
    "    elif team_name == 'SV Werder Bremen':\n",
    "        team_name = 'Werder Bremen'\n",
    "        \n",
    "    # Vergleicht Team Namen und sucht nach ID\n",
    "    cursor.execute(\"SELECT team_id FROM bundesliga_mannschaften WHERE mannschaft = %s\", (team_name,))\n",
    "    result = cursor.fetchone()[0]\n",
    "\n",
    "    if result:\n",
    "        return result\n",
    "    else:\n",
    "        print(f'Keine Übereinstimmung für {team_name} gefunden')\n"
   ]
  },
  {
   "cell_type": "code",
   "execution_count": 5,
   "metadata": {},
   "outputs": [],
   "source": [
    "if conn_Ok:\n",
    "    # Anzahl Pässe für die spielTage im angegebenen Range\n",
    "    for matchday in range(1, 35):\n",
    "        url = f'https://www.sport.de/fussball/deutschland-bundesliga/se45495/2022-2023/ro132754/spieltag/md{matchday}/teamstatistik-paesse/'\n",
    "\n",
    "        response = requests.get(url)\n",
    "\n",
    "        if response.status_code == 200:\n",
    "            soup = BeautifulSoup(response.text, 'html.parser')\n",
    "\n",
    "            # Suche nach allen Mannschaftsnamen und Passquoten\n",
    "            team_elements = soup.find_all('td', class_='team-name team-name-list')\n",
    "            pass_complete_elements = soup.find_all('td', class_='team_stats-passes_complete team_stats-passes_complete-list')\n",
    "            pass_failed_elements = soup.find_all('td', class_='team_stats-passes_failed team_stats-passes_failed-list')\n",
    "            pass_total_elements = soup.find_all('td', class_='team_stats-passes team_stats-passes-list')\n",
    "            pass_percentage_elements = soup.find_all('td', class_='team_stats-passes_complete_percentage team_stats-passes_complete_percentage-format')\n",
    "\n",
    "            # Iteriere über die gefundenen Elemente und extrahiere die gewünschten Informationen\n",
    "            for team_element,pass_complete_element, pass_failed_element,pass_total_element, pass_percentage_element in zip(team_elements,pass_complete_elements, pass_failed_elements, pass_total_elements, pass_percentage_elements):\n",
    "                team_name = team_element.text.strip()\n",
    "                pass_complete = pass_complete_element.text.strip()\n",
    "                pass_failed = pass_failed_element.text.strip()\n",
    "                pass_total = pass_total_element.text.strip()\n",
    "                pass_percentage = pass_percentage_element.text.strip()\n",
    "\n",
    "                # Speichere die Daten in der PostgreSQL-Datenbank\n",
    "                insert_data_query = '''\n",
    "                INSERT INTO bundesliga_pass_stats (matchday, team_id, pass_complete, pass_failed, pass_total, pass_percentage) \n",
    "                VALUES (%s, %s, %s,%s, %s, %s);\n",
    "                '''\n",
    "\n",
    "                team_id = get_team_id(team_name)\n",
    "\n",
    "                cursor.execute(insert_data_query, (matchday, team_id, pass_complete, pass_failed, pass_total, float(pass_percentage.replace(',', '.'))))\n",
    "\n",
    "                connection.commit()\n",
    "        else:\n",
    "            print(f'Fehler beim Abrufen der Webseite für Spieltag {matchday}')"
   ]
  },
  {
   "cell_type": "code",
   "execution_count": 6,
   "metadata": {},
   "outputs": [],
   "source": [
    "for matchday in range(1, 35):\n",
    "    url = f'https://www.sport.de/fussball/deutschland-bundesliga/se45495/2022-2023/ro132754/spieltag/md{matchday}/teamstatistik-torschuesse/'\n",
    "    response = requests.get(url)\n",
    "\n",
    "    if response.status_code == 200:\n",
    "        soup = BeautifulSoup(response.text, 'html.parser')\n",
    "\n",
    "        team_elements = soup.find_all('td', class_='team-name team-name-list')\n",
    "        shots_elements = soup.find_all('td', class_='team_stats-shots team_stats-shots-list')\n",
    "\n",
    "        for team_element, shots_element in zip(team_elements, shots_elements):\n",
    "            team_name = team_element.text.strip()\n",
    "            shots_total = shots_element.text.strip()\n",
    "\n",
    "            insert_data_query = '''\n",
    "                INSERT INTO bundesliga_shots_stats (matchday, team_id, shots_total)\n",
    "                VALUES (%s, %s, %s);\n",
    "            '''\n",
    "            team_id = get_team_id(team_name)\n",
    "\n",
    "            cursor.execute(insert_data_query, (matchday, team_id, shots_total))\n",
    "\n",
    "            connection.commit()\n",
    "\n",
    "    else:\n",
    "        print(f'Fehler beim Abrufen der Webseite für Spieltag {matchday} und Torschüsse')"
   ]
  },
  {
   "cell_type": "code",
   "execution_count": 7,
   "metadata": {},
   "outputs": [],
   "source": [
    "for matchday in range(1, 35):\n",
    "    url = f'https://www.sport.de/fussball/deutschland-bundesliga/se45495/2022-2023/ro132754/spieltag/md{matchday}/teamstatistik-zweikaempfe/'\n",
    "    response = requests.get(url)\n",
    "\n",
    "    if response.status_code == 200:\n",
    "        soup = BeautifulSoup(response.text, 'html.parser')\n",
    "\n",
    "        team_elements = soup.find_all('td', class_='team-name team-name-list')\n",
    "        duels_elements = soup.find_all('td', class_='team_stats-duels team_stats-duels-list')\n",
    "        duels_won_elements = soup.find_all('td', class_='team_stats-duels_won team_stats-duels_won-list')\n",
    "\n",
    "        for team_element, duels_element, duels_won_element in zip(team_elements, duels_elements, duels_won_elements):\n",
    "            team_name = team_element.text.strip()\n",
    "            duels_total = duels_element.text.strip()\n",
    "            duels_won = duels_won_element.text.strip()\n",
    "\n",
    "            insert_data_query = '''\n",
    "                INSERT INTO bundesliga_duels_stats (matchday, team_id, duels_total, duels_won)\n",
    "                VALUES (%s, %s, %s, %s);\n",
    "                '''\n",
    "            team_id =get_team_id(team_name)\n",
    "        \n",
    "            cursor.execute(insert_data_query, (matchday, team_id, duels_total, duels_won))\n",
    "                        \n",
    "            connection.commit()\n",
    "\n",
    "    else:\n",
    "        print(f'Fehler beim Abrufen der Webseite für Spieltag {matchday} und Zweikämpfe')"
   ]
  },
  {
   "cell_type": "code",
   "execution_count": null,
   "metadata": {},
   "outputs": [],
   "source": []
  }
 ],
 "metadata": {
  "kernelspec": {
   "display_name": "adsenv",
   "language": "python",
   "name": "python3"
  },
  "language_info": {
   "codemirror_mode": {
    "name": "ipython",
    "version": 3
   },
   "file_extension": ".py",
   "mimetype": "text/x-python",
   "name": "python",
   "nbconvert_exporter": "python",
   "pygments_lexer": "ipython3",
   "version": "3.10.9"
  },
  "orig_nbformat": 4,
  "vscode": {
   "interpreter": {
    "hash": "cf1ba55af98fa155eb6f9507898a012b292e4dea61caf6d17930c9c692d43aca"
   }
  }
 },
 "nbformat": 4,
 "nbformat_minor": 2
}
