{
 "cells": [
  {
   "attachments": {},
   "cell_type": "markdown",
   "metadata": {},
   "source": [
    "#### Imports\n",
    "<span style=\"font-family: Arial; font-size: 11pt;\">\n",
    "Der folgende Code enthält die Imports der vergangenen Saison (21/22), die für dieses Data Science-Projekt verwendet werden:\n",
    "\n",
    "- `requests`: Diese Bibliothek ermöglicht das Senden von HTTP-Anfragen an Webseiten und die Verarbeitung der erhaltenen Daten.\n",
    "\n",
    "- `BeautifulSoup` aus `bs4`: Diese Bibliothek wird verwendet, um HTML- oder XML-Dokumente zu parsen. Sie ermöglicht das Durchsuchen von Webseiten und das Extrahieren spezifischer Daten.\n",
    "\n",
    "- `psycopg2`: Diese Bibliothek dient als Schnittstelle zur PostgreSQL-Datenbank. Sie ermöglicht das Herstellen von Verbindungen zur Datenbank und das Ausführen von Abfragen sowie andere Datenbankoperationen.</span>"
   ]
  },
  {
   "cell_type": "code",
   "execution_count": null,
   "metadata": {},
   "outputs": [],
   "source": [
    "import requests\n",
    "from bs4 import BeautifulSoup\n",
    "import psycopg2"
   ]
  },
  {
   "attachments": {},
   "cell_type": "markdown",
   "metadata": {},
   "source": [
    "#### Kontrollvariable\n",
    "<span style=\"font-family: Arial; font-size: 11pt;\">\n",
    "In diesem Codeabschnitt haben wir die Kontrollvariable `conn_Ok` mit dem anfänglichen Wert `True` implementiert, mit der anschliessend überprüft werden soll, ob die Verbindung zur DB steht</span>"
   ]
  },
  {
   "cell_type": "code",
   "execution_count": null,
   "metadata": {},
   "outputs": [],
   "source": [
    "# Variablen\n",
    "conn_Ok = True"
   ]
  },
  {
   "attachments": {},
   "cell_type": "markdown",
   "metadata": {},
   "source": [
    "#### DB-Verbindung\n",
    "<span style=\"font-family: Arial; font-size: 11pt;\">\n",
    "Es wird mit einer Try-Except Methode versucht, eine Verbindung zur PostgreSQL-Datenbank herzustellen.\n",
    "- Falls die Verbindung erfolgreich hergestellt werden kann, wird ein Cursor-Objekt erstellt und die Variable `conn_Ok` bleibt auf `True`.\n",
    "\n",
    "Falls ein Verbindungsfehler auftritt, wird eine Fehlermeldung ausgegeben und die Variable `conn_Ok` auf `False` gesetzt.\n",
    "</span>"
   ]
  },
  {
   "cell_type": "code",
   "execution_count": null,
   "metadata": {},
   "outputs": [],
   "source": [
    "# Check if connection to DB possible\n",
    "try:\n",
    "    connection = psycopg2.connect(\n",
    "        dbname='PSQL_ADSFS2023Gruppe15',\n",
    "        user='ADSFS2023Gruppe15',\n",
    "        password='ADS_FS_2023_G15!?',\n",
    "        host='localhost',\n",
    "        port='5432'\n",
    "    )\n",
    "\n",
    "    cursor = connection.cursor()\n",
    "\n",
    "except (Exception, psycopg2.Error) as error:\n",
    "        print('Fehler beim Verbinden mit der PostgreSQL-Datenbank:', error)\n",
    "        conn_Ok = False"
   ]
  },
  {
   "attachments": {},
   "cell_type": "markdown",
   "metadata": {},
   "source": [
    "#### Datenbereinigung\n",
    "<span style=\"font-family: Arial; font-size: 11pt;\">\n",
    "Der folgende Code definiert die Funktion get_team_id, die die Team-ID anhand des Teamnamens aus der PostgreSQL-Datenbank abruft.\n",
    "\n",
    "- Der übergebene `team_name` wird auf spezifische Teamnamen überprüft und entsprechend angepasst, um den erwarteten Namen in der Datenbank zu verwenden.\n",
    "- Es wird eine SQL-Abfrage ausgeführt, um die Team-ID aus der Datenbank abzurufen.\n",
    "- Das Ergebnis der Abfrage wird überprüft und entweder die Team-ID zurückgegeben oder eine Fehlermeldung ausgegeben.\n",
    "</span>"
   ]
  },
  {
   "cell_type": "code",
   "execution_count": null,
   "metadata": {},
   "outputs": [],
   "source": [
    "def get_team_id(team_name):\n",
    "\n",
    "    if team_name == 'Gladbach':\n",
    "        team_name = 'Borussia Mönchengladbach'\n",
    "    elif team_name == 'Hoffenheim':\n",
    "        team_name = 'TSG 1899 Hoffenheim'\n",
    "    elif team_name == 'Bremen':\n",
    "        team_name = 'Werder Bremen'\n",
    "\n",
    "    #Alle Teamnamen von Kicker.de anpassen auf Teamnamen in der Tabelle    \n",
    "    elif team_name == 'Gladbach':\n",
    "        team_name = 'Borussia Mönchengladbach'\n",
    "    elif team_name == 'Hoffenheim':\n",
    "        team_name = 'TSG 1899 Hoffenheim'\n",
    "    elif team_name == 'Bremen':\n",
    "        team_name = 'Werder Bremen'\n",
    "\n",
    "Gladbach\n",
    "Dortmund\n",
    "Bayern\n",
    "Frankfurt\n",
    "Köln\n",
    "Bielefeld\n",
    "Union\n",
    "Mainz\n",
    "Fürth\n",
    "Hertha\n",
    "Freiburg\n",
    "Stuttgart\n",
    "Leverkusen\n",
    "Leipzig\n",
    "Hoffenheim\n",
    "Wolfsburg\n",
    "Augsburg\n",
    "Bochum\n",
    "\n",
    "Abgestiegen: Fürht und Bielefeld > ignorieren einbauen\n",
    "   \n",
    "        \n",
    "    # Vergleicht Team Namen und sucht nach ID\n",
    "    cursor.execute(\"SELECT team_id FROM bundesliga_mannschaften WHERE mannschaft = %s\", (team_name,))\n",
    "    result = cursor.fetchone()[0]\n",
    "\n",
    "    if result:\n",
    "        return result\n",
    "    else:\n",
    "        print(f'Keine Übereinstimmung für {team_name} gefunden')\n"
   ]
  },
  {
   "attachments": {},
   "cell_type": "markdown",
   "metadata": {},
   "source": [
    "#### Passdaten\n",
    "<span style=\"font-family: Arial; font-size: 11pt;\">\n",
    "\n",
    "Der folgende Codeabschnitt durchläuft eine Schleife von 1 bis 35 (Spieltage) und ruft Daten von einer Webseite ab.\n",
    "\n",
    "- Eine URL wird für jeden Spieltag generiert, um Daten von einer bestimmten Webseite abzurufen.\n",
    "- Eine HTTP-Anfrage wird an die URL gesendet, um die Webseite abzurufen.\n",
    "- Wenn die Antwort erfolgreich ist (200), werden relevante Informationen wie Mannschaftsnamen und Passquoten von der HTML-Seite extrahiert.\n",
    "- Die Team-ID wird mit Hilfe der `get_team_id()`-Funktion abgerufen.\n",
    "- Ein SQL-INSERT-Statement wird erstellt, um die Daten (Spieltag, Team-ID und Passdaten) in der Datenbank zu speichern.\n",
    "- Die Änderungen werden anschliessend in der Datenbank gespeichert.\n",
    "</span>"
   ]
  },
  {
   "cell_type": "code",
   "execution_count": null,
   "metadata": {},
   "outputs": [],
   "source": []
  },
  {
   "attachments": {},
   "cell_type": "markdown",
   "metadata": {},
   "source": [
    "#### Torschüsse\n",
    "<span style=\"font-family: Arial; font-size: 11pt;\">\n",
    "\n",
    "Der folgende Codeabschnitt durchläuft eine Schleife von 1 bis 35 (Spieltage) und ruft Daten von einer Webseite ab.\n",
    "\n",
    "- Eine URL wird für jeden Spieltag generiert, um Daten von einer bestimmten Webseite abzurufen.\n",
    "- Eine HTTP-Anfrage wird an die URL gesendet, um die Webseite abzurufen.\n",
    "- Wenn die Antwort erfolgreich ist (200), werden relevante Informationen wie Mannschaftsnamen und Schüsse aufs Tor von der HTML-Seite extrahiert.\n",
    "- Ein SQL-INSERT-Statement wird erstellt, um die Daten (Spieltag, Team-ID und Torschüsse) in der Datenbank zu speichern.\n",
    "- Die Änderungen werden in der Datenbank gespeichert.\n",
    "- Bei auftretenden Fehlern wird die Transaktion rückgängig gemacht und eine entsprechende Fehlermeldung ausgegeben.\n",
    "</span>"
   ]
  },
  {
   "cell_type": "code",
   "execution_count": null,
   "metadata": {},
   "outputs": [],
   "source": []
  },
  {
   "attachments": {},
   "cell_type": "markdown",
   "metadata": {},
   "source": [
    "#### Ballkontakte\n",
    "<span style=\"font-family: Arial; font-size: 11pt;\">\n",
    "\n",
    "Der folgende Codeabschnitt durchläuft eine Schleife von 1 bis 35 (Spieltage) und ruft Daten von einer Webseite ab.\n",
    "\n",
    "- Eine URL wird für jeden Spieltag generiert, um Daten von einer bestimmten Webseite abzurufen.\n",
    "- Eine HTTP-Anfrage wird an die URL gesendet, um die Webseite abzurufen.\n",
    "- Wenn die Antwort erfolgreich ist (200), werden relevante Informationen wie Mannschaftsnamen und Ballberührungen von der HTML-Seite extrahiert.\n",
    "- Ein SQL-INSERT-Statement wird erstellt, um die Daten (Spieltag, Team-ID und Ballkontakte) in der Datenbank zu speichern.\n",
    "- Die Änderungen werden in der Datenbank gespeichert.\n",
    "- Bei auftretenden Fehlern wird die Transaktion rückgängig gemacht und eine entsprechende Fehlermeldung ausgegeben.\n",
    "</span>"
   ]
  },
  {
   "cell_type": "code",
   "execution_count": null,
   "metadata": {},
   "outputs": [],
   "source": []
  },
  {
   "attachments": {},
   "cell_type": "markdown",
   "metadata": {},
   "source": [
    "#### Zweikampfdaten\n",
    "<span style=\"font-family: Arial; font-size: 11pt;\">\n",
    "\n",
    "Der folgende Codeabschnitt durchläuft eine Schleife von 1 bis 35 (Spieltage) und ruft Daten von einer Webseite ab.\n",
    "\n",
    "- Eine URL wird für jeden Spieltag generiert, um Daten von einer bestimmten Webseite abzurufen.\n",
    "- Eine HTTP-Anfrage wird an die URL gesendet, um die Webseite abzurufen.\n",
    "- Wenn die Antwort erfolgreich ist (200), werden relevante Informationen wie Mannschaftsnamen und Laufleistungen von der HTML-Seite extrahiert.\n",
    "- Ein SQL-INSERT-Statement wird erstellt, um die Daten (Spieltag, Team-ID und Zweikampfdaten) in der Datenbank zu speichern.\n",
    "- Die Änderungen werden in der Datenbank gespeichert.\n",
    "- Bei auftretenden Fehlern wird die Transaktion rückgängig gemacht und eine entsprechende Fehlermeldung ausgegeben.\n",
    "</span>"
   ]
  },
  {
   "cell_type": "code",
   "execution_count": null,
   "metadata": {},
   "outputs": [],
   "source": []
  },
  {
   "attachments": {},
   "cell_type": "markdown",
   "metadata": {},
   "source": [
    "#### Laufleistung\n",
    "<span style=\"font-family: Arial; font-size: 11pt;\">\n",
    "\n",
    "Der folgende Codeabschnitt durchläuft eine Schleife von 1 bis 35 (Spieltage) und ruft Daten von einer Webseite ab.\n",
    "\n",
    "- Eine URL wird für jeden Spieltag generiert, um Daten von einer bestimmten Webseite abzurufen.\n",
    "- Eine HTTP-Anfrage wird an die URL gesendet, um die Webseite abzurufen.\n",
    "- Wenn die Antwort erfolgreich ist (200), werden relevante Informationen wie Mannschaftsnamen und Schüsse aufs Tor von der HTML-Seite extrahiert.\n",
    "- Ein SQL-INSERT-Statement wird erstellt, um die Daten (Spieltag, Team-ID und Laufleistung) in der Datenbank zu speichern.\n",
    "- Die Änderungen werden in der Datenbank gespeichert.\n",
    "- Bei auftretenden Fehlern wird die Transaktion rückgängig gemacht und eine entsprechende Fehlermeldung ausgegeben.\n",
    "</span>"
   ]
  },
  {
   "cell_type": "code",
   "execution_count": null,
   "metadata": {},
   "outputs": [],
   "source": []
  },
  {
   "attachments": {},
   "cell_type": "markdown",
   "metadata": {},
   "source": [
    "#### Freistösse\n",
    "<span style=\"font-family: Arial; font-size: 11pt;\">\n",
    "\n",
    "Der folgende Codeabschnitt durchläuft eine Schleife von 1 bis 35 (Spieltage) und ruft Daten von einer Webseite ab.\n",
    "\n",
    "- Eine URL wird für jeden Spieltag generiert, um Daten von einer bestimmten Webseite abzurufen.\n",
    "- Eine HTTP-Anfrage wird an die URL gesendet, um die Webseite abzurufen.\n",
    "- Wenn die Antwort erfolgreich ist (200), werden relevante Informationen wie Mannschaftsnamen und Schüsse aufs Tor von der HTML-Seite extrahiert.\n",
    "- Ein SQL-INSERT-Statement wird erstellt, um die Daten (Spieltag, Team-ID und Freistösse) in der Datenbank zu speichern.\n",
    "- Die Änderungen werden in der Datenbank gespeichert.\n",
    "- Bei auftretenden Fehlern wird die Transaktion rückgängig gemacht und eine entsprechende Fehlermeldung ausgegeben.\n",
    "</span>"
   ]
  },
  {
   "cell_type": "code",
   "execution_count": null,
   "metadata": {},
   "outputs": [],
   "source": []
  },
  {
   "attachments": {},
   "cell_type": "markdown",
   "metadata": {},
   "source": [
    "#### Eckbälle\n",
    "<span style=\"font-family: Arial; font-size: 11pt;\">\n",
    "\n",
    "Der folgende Codeabschnitt durchläuft eine Schleife von 1 bis 35 (Spieltage) und ruft Daten von einer Webseite ab.\n",
    "\n",
    "- Eine URL wird für jeden Spieltag generiert, um Daten von einer bestimmten Webseite abzurufen.\n",
    "- Eine HTTP-Anfrage wird an die URL gesendet, um die Webseite abzurufen.\n",
    "- Wenn die Antwort erfolgreich ist (200), werden relevante Informationen wie Mannschaftsnamen und Schüsse aufs Tor von der HTML-Seite extrahiert.\n",
    "- Ein SQL-INSERT-Statement wird erstellt, um die Daten (Spieltag, Team-ID und Eckbälle) in der Datenbank zu speichern.\n",
    "- Die Änderungen werden in der Datenbank gespeichert.\n",
    "- Bei auftretenden Fehlern wird die Transaktion rückgängig gemacht und eine entsprechende Fehlermeldung ausgegeben.\n",
    "</span>"
   ]
  },
  {
   "cell_type": "code",
   "execution_count": null,
   "metadata": {},
   "outputs": [],
   "source": []
  }
 ],
 "metadata": {
  "kernelspec": {
   "display_name": "Python 3",
   "language": "python",
   "name": "python3"
  },
  "language_info": {
   "name": "python",
   "version": "3.11.0"
  },
  "orig_nbformat": 4,
  "vscode": {
   "interpreter": {
    "hash": "c261aea317cc0286b3b3261fbba9abdec21eaa57589985bb7a274bf54d6cc0a7"
   }
  }
 },
 "nbformat": 4,
 "nbformat_minor": 2
}
