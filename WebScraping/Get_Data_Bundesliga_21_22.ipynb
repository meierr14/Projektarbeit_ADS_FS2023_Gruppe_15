{
 "cells": [
  {
   "attachments": {},
   "cell_type": "markdown",
   "metadata": {},
   "source": [
    "#### Imports\n",
    "<span style=\"font-family: Arial; font-size: 11pt;\">\n",
    "Der folgende Code enthält die Imports der vergangenen Saison (21/22), die für dieses Data Science-Projekt verwendet werden:\n",
    "\n",
    "- `requests`: Diese Bibliothek ermöglicht das Senden von HTTP-Anfragen an Webseiten und die Verarbeitung der erhaltenen Daten.\n",
    "\n",
    "- `BeautifulSoup` aus `bs4`: Diese Bibliothek wird verwendet, um HTML- oder XML-Dokumente zu parsen. Sie ermöglicht das Durchsuchen von Webseiten und das Extrahieren spezifischer Daten.\n",
    "\n",
    "- `psycopg2`: Diese Bibliothek dient als Schnittstelle zur PostgreSQL-Datenbank. Sie ermöglicht das Herstellen von Verbindungen zur Datenbank und das Ausführen von Abfragen sowie andere Datenbankoperationen.</span>"
   ]
  },
  {
   "cell_type": "code",
   "execution_count": null,
   "metadata": {},
   "outputs": [],
   "source": [
    "import requests\n",
    "from bs4 import BeautifulSoup\n",
    "import psycopg2"
   ]
  },
  {
   "attachments": {},
   "cell_type": "markdown",
   "metadata": {},
   "source": [
    "#### Kontrollvariable\n",
    "<span style=\"font-family: Arial; font-size: 11pt;\">\n",
    "In diesem Codeabschnitt haben wir die Kontrollvariable `conn_Ok` mit dem anfänglichen Wert `True` implementiert, mit der anschliessend überprüft werden soll, ob die Verbindung zur DB steht</span>"
   ]
  },
  {
   "cell_type": "code",
   "execution_count": null,
   "metadata": {},
   "outputs": [],
   "source": [
    "# Variablen\n",
    "conn_Ok = True"
   ]
  },
  {
   "attachments": {},
   "cell_type": "markdown",
   "metadata": {},
   "source": [
    "#### DB-Verbindung\n",
    "<span style=\"font-family: Arial; font-size: 11pt;\">\n",
    "Es wird mit einer Try-Except Methode versucht, eine Verbindung zur PostgreSQL-Datenbank herzustellen.\n",
    "- Falls die Verbindung erfolgreich hergestellt werden kann, wird ein Cursor-Objekt erstellt und die Variable `conn_Ok` bleibt auf `True`.\n",
    "\n",
    "Falls ein Verbindungsfehler auftritt, wird eine Fehlermeldung ausgegeben und die Variable `conn_Ok` auf `False` gesetzt.\n",
    "</span>"
   ]
  },
  {
   "cell_type": "code",
   "execution_count": null,
   "metadata": {},
   "outputs": [],
   "source": [
    "# Check if connection to DB possible\n",
    "try:\n",
    "    connection = psycopg2.connect(\n",
    "        dbname='PSQL_ADSFS2023Gruppe15',\n",
    "        user='ADSFS2023Gruppe15',\n",
    "        password='ADS_FS_2023_G15!?',\n",
    "        host='localhost',\n",
    "        port='5432'\n",
    "    )\n",
    "\n",
    "    cursor = connection.cursor()\n",
    "\n",
    "except (Exception, psycopg2.Error) as error:\n",
    "        print('Fehler beim Verbinden mit der PostgreSQL-Datenbank:', error)\n",
    "        conn_Ok = False"
   ]
  },
  {
   "attachments": {},
   "cell_type": "markdown",
   "metadata": {},
   "source": [
    "#### Datenbereinigung\n",
    "<span style=\"font-family: Arial; font-size: 11pt;\">\n",
    "Der folgende Code definiert die Funktion get_team_id, die die Team-ID anhand des Teamnamens aus der PostgreSQL-Datenbank abruft.\n",
    "\n",
    "- Der übergebene `team_name` wird auf spezifische Teamnamen überprüft und entsprechend angepasst, um den erwarteten Namen in der Datenbank zu verwenden.\n",
    "- Es wird eine SQL-Abfrage ausgeführt, um die Team-ID aus der Datenbank abzurufen.\n",
    "- Das Ergebnis der Abfrage wird überprüft und entweder die Team-ID zurückgegeben oder eine Fehlermeldung ausgegeben.\n",
    "</span>"
   ]
  },
  {
   "cell_type": "code",
   "execution_count": null,
   "metadata": {},
   "outputs": [],
   "source": [
    "def get_team_id(team_name):\n",
    "    #Alle Teamnamen von Kicker.de anpassen, damit diese mit den Teamnamen in unserer Tabelle übereinstimmen\n",
    "    if team_name == 'Gladbach':\n",
    "        team_name = 'Borussia Mönchengladbach'\n",
    "    if team_name == '%Gladbach':\n",
    "        team_name = 'Borussia Mönchengladbach'    \n",
    "    elif team_name == 'Hoffenheim':\n",
    "        team_name = 'TSG 1899 Hoffenheim'\n",
    "    elif team_name == '%Bremen':\n",
    "        team_name = 'Werder Bremen'\n",
    "    elif team_name == '%Hoffenheim':\n",
    "        team_name = 'TSG 1899 Hoffenheim'\n",
    "    elif team_name == '%Bremen':\n",
    "        team_name = 'Werder Bremen'\n",
    "    elif team_name == '%Bochum':\n",
    "        team_name = 'VfL Bochum'\n",
    "    elif team_name == '%Dortmund':\n",
    "        team_name = 'Borussia Dortmund'                \n",
    "    elif team_name == '%Bayern':\n",
    "        team_name = 'FC Bayern München'\n",
    "    elif team_name == '%Bayern Munich':\n",
    "        team_name = 'FC Bayern München'        \n",
    "    elif team_name == '%Frankfurt':\n",
    "        team_name = 'Eintracht Frankfurt'                \n",
    "    elif team_name == 'Köln':\n",
    "        team_name = '1. FC Köln'\n",
    "    elif team_name == '%Koln':\n",
    "        team_name = '1. FC Köln'    \n",
    "    elif team_name == 'Union':\n",
    "        team_name = '1. FC Union Berlin'                \n",
    "    elif team_name == '%Mainz%': #Mainz 05\n",
    "        team_name = '1. FSV Mainz 05'\n",
    "    elif team_name == '%Hertha':\n",
    "        team_name = 'Hertha BSC'\n",
    "    elif team_name == '%Freiburg':\n",
    "        team_name = 'SC Freiburg'\n",
    "    elif team_name == '%Stuttgart':\n",
    "        team_name = 'VfB Stuttgart'                \n",
    "    elif team_name == 'Leverkusen':\n",
    "        team_name = 'Bayer Leverkusen'\n",
    "    elif team_name == '%Leverkusen':\n",
    "        team_name = 'Bayer Leverkusen'        \n",
    "    elif team_name == 'Leipzig':\n",
    "        team_name = 'RB Leipzig'         \n",
    "    elif team_name == '%Wolfsburg':\n",
    "        team_name = 'VfL Wolfsburg'\n",
    "    elif team_name == '%Augsburg':\n",
    "        team_name = 'FC Augsburg'              \n",
    "\n",
    "#Abgestiegen: Fürht und Bielefeld > ignorieren einbauen nötig? Fehlt nun einfach hier\n",
    "   \n",
    "\n",
    "\n",
    "#Alle Teamnamen von whoscored.com anpassen, damit diese mit den Teamnamen in unserer Tabelle übereinstimmen\n",
    "\n",
    "        \n",
    "    # Vergleicht Team Namen und sucht nach ID\n",
    "    cursor.execute(\"SELECT team_id FROM bundesliga_mannschaften WHERE mannschaft = %s\", (team_name,))\n",
    "    result = cursor.fetchone()[0]\n",
    "\n",
    "    if result:\n",
    "        return result\n",
    "    else:\n",
    "        print(f'Keine Übereinstimmung für {team_name} gefunden')\n"
   ]
  },
  {
   "attachments": {},
   "cell_type": "markdown",
   "metadata": {},
   "source": [
    "#### Laufleistung\n",
    "<span style=\"font-family: Arial; font-size: 11pt;\">\n",
    "\n",
    "Der folgende Codeabschnitt durchläuft eine Schleife von 1 bis 34 (Spieltage) und ruft Daten von einer Webseite ab.\n",
    "\n",
    "- Eine URL wird für jeden Spieltag generiert, um Daten von einer bestimmten Webseite abzurufen.\n",
    "- Eine HTTP-Anfrage wird an die URL gesendet, um die Webseite abzurufen.\n",
    "- Wenn die Antwort erfolgreich ist (200), werden relevante Informationen wie Mannschaftsnamen und Schüsse aufs Tor von der HTML-Seite extrahiert.\n",
    "- Ein SQL-INSERT-Statement wird erstellt, um die Daten (Spieltag, Team-ID und Laufleistung) in der Datenbank zu speichern.\n",
    "- Die Änderungen werden in der Datenbank gespeichert.\n",
    "- Bei auftretenden Fehlern wird die Transaktion rückgängig gemacht und eine entsprechende Fehlermeldung ausgegeben.\n",
    "</span>"
   ]
  },
  {
   "cell_type": "code",
   "execution_count": null,
   "metadata": {},
   "outputs": [],
   "source": [
    "for matchday in range(1, 34):\n",
    "    url = f'https://www.kicker.de/bundesliga/laufleistung/2021-22/{matchday}'\n",
    "    response = requests.get(url)\n",
    "\n",
    "    if response.status_code == 200:\n",
    "        soup = BeautifulSoup(response.text, 'html.parser')\n",
    "\n",
    "        team_elements = soup.find_all('td', class_='kick__table--ranking__teamname kick__table__cell--multiline kick__t__a__l')\n",
    "        distance_elements = soup.find_all('td', class_='kick__table--ranking__master')\n",
    "        try:\n",
    "            for team_element, distance_element in zip(team_elements, distance_elements):\n",
    "                team_name = team_element.text.strip()\n",
    "                distance_total = distance_element.text.strip()\n",
    "\n",
    "                insert_data_query = '''\n",
    "                    INSERT INTO bundesliga_distance_stats (matchday, team_id, distance_total)\n",
    "                    VALUES (%s, %s, %s);\n",
    "                    '''\n",
    "                team_id = get_team_id(team_name)\n",
    "            \n",
    "                cursor.execute(insert_data_query, (matchday, team_id, float(distance_total.replace(',', '.'))))\n",
    "                            \n",
    "                connection.commit()\n",
    "        except Exception as e:\n",
    "            connection.rollback\n",
    "            print(f'Fehler beim Einfügen der Daten für Spieltag {matchday} und Laufleistung:', str(e))\n",
    "\n",
    "    else:\n",
    "        print(f'Fehler beim Abrufen der Webseite für Spieltag {matchday} und Laufleistung')"
   ]
  },
  {
   "attachments": {},
   "cell_type": "markdown",
   "metadata": {},
   "source": [
    "#### Summierte Daten\n",
    "<span style=\"font-family: Arial; font-size: 11pt;\">\n",
    "\n",
    "Aufgrund der einerseits eingeschränkten Verfügbarkeit aller Daten von vergangenen Saisons und der geringen Aussagekraft für die Folgesaison werden hier die Daten als Total von der vorherigen Saison importiert. Der folgende Codeabschnitt ruft die Daten von einer Webseite ab.\n",
    "\n",
    "- Eine URL wird für jeden Spieltag generiert, um Daten von einer bestimmten Webseite abzurufen.\n",
    "- Eine HTTP-Anfrage wird an die URL gesendet, um die Webseite abzurufen.\n",
    "- Wenn die Antwort erfolgreich ist (200), werden relevante Informationen wie Mannschaftsnamen und Schüsse aufs Tor von der HTML-Seite extrahiert.\n",
    "- Ein SQL-INSERT-Statement wird erstellt, um die Daten (Spieltag, Team-ID und Eckbälle) in der Datenbank zu speichern.\n",
    "- Die Änderungen werden in der Datenbank gespeichert.\n",
    "- Bei auftretenden Fehlern wird die Transaktion rückgängig gemacht und eine entsprechende Fehlermeldung ausgegeben.\n",
    "</span>"
   ]
  },
  {
   "cell_type": "code",
   "execution_count": null,
   "metadata": {},
   "outputs": [],
   "source": [
    "url = 'https://www.whoscored.com/Regions/81/Tournaments/3/Seasons/8667/Stages/19862/TeamStatistics/Germany-Bundesliga-2021-2022'\n",
    "response = requests.get(url)\n",
    "\n",
    "if response.status_code == 200:\n",
    "    soup = BeautifulSoup(response.text, 'html.parser')\n",
    "\n",
    "    team_elements = soup.find_all('td', class_='col12-lg-2 col12-m-3 col12-s-4 col12-xs-5 grid-abs overflow-text')\n",
    "    goals_elements = soup.find_all('td', class_='goal')\n",
    "    shots_elements = soup.find_all('td', class_='shotsPerGame')\n",
    "    possession_elements = soup.find_all('td', class_='possession')\n",
    "    pass_elements = soup.find_all('td', class_='passSuccess')\n",
    "    try:\n",
    "        for team_element, goals_element, shots_element, possession_element, pass_element in zip(team_elements, goals_elements, shots_elements, possession_elements, pass_elements):\n",
    "            team_name = team_element.text.strip()\n",
    "            goals_total = goals_element.text.strip()\n",
    "            shots_total = shots_element.text.strip()\n",
    "            touches_total = possession_element.text.strip()\n",
    "            pass_percentage = pass_element.text.strip()\n",
    "    except Exception as e:\n",
    "        print(f\"An error occurred: {e}\")\n"
   ]
  }
 ],
 "metadata": {
  "kernelspec": {
   "display_name": "Python 3",
   "language": "python",
   "name": "python3"
  },
  "language_info": {
   "name": "python",
   "version": "3.11.0"
  },
  "orig_nbformat": 4,
  "vscode": {
   "interpreter": {
    "hash": "c261aea317cc0286b3b3261fbba9abdec21eaa57589985bb7a274bf54d6cc0a7"
   }
  }
 },
 "nbformat": 4,
 "nbformat_minor": 2
}
