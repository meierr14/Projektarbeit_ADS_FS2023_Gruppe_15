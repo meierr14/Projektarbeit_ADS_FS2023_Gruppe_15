{
 "cells": [
  {
   "attachments": {},
   "cell_type": "markdown",
   "metadata": {},
   "source": [
    "#### Imports\n",
    "<span style=\"font-family: Arial; font-size: 11pt;\">\n",
    "Der folgende Code enthält die Imports, die für dieses Data Science-Projekt verwendet werden:\n",
    "\n",
    "- `requests`: Diese Bibliothek ermöglicht das Senden von HTTP-Anfragen an Webseiten und die Verarbeitung der erhaltenen Daten.\n",
    "\n",
    "- `BeautifulSoup` aus `bs4`: Diese Bibliothek wird verwendet, um HTML- oder XML-Dokumente zu parsen. Sie ermöglicht das Durchsuchen von Webseiten und das Extrahieren spezifischer Daten.\n",
    "\n",
    "- `psycopg2`: Diese Bibliothek dient als Schnittstelle zur PostgreSQL-Datenbank. Sie ermöglicht das Herstellen von Verbindungen zur Datenbank und das Ausführen von Abfragen sowie andere Datenbankoperationen.</span>"
   ]
  },
  {
   "cell_type": "code",
   "execution_count": 1,
   "metadata": {},
   "outputs": [],
   "source": [
    "import requests\n",
    "from bs4 import BeautifulSoup\n",
    "import psycopg2"
   ]
  },
  {
   "attachments": {},
   "cell_type": "markdown",
   "metadata": {},
   "source": [
    "##### Connection (URL, DB) / Create Table / Import\n",
    "<span style=\"font-family: Arial; font-size: 11pt;\">\n",
    "Der hier von uns geschriebene Code enthält zwei Funktionen, `connect_and_save_data` und `bundesliga_pass_stats`, die für das Verbinden mit unserer PostgreSQL-Datenbank, das Abrufen von Daten von einer Webseite und das Speichern dieser Daten in der Datenbank verantwortlich sind.\n",
    "\n",
    "Die Funktion `connect_and_save_data` verbindet sich mit der PostgreSQL-Datenbank und speichert die übergebenen Daten in der Tabelle `bundesliga_pass_stats`.\n",
    "\n",
    "Die Funktion `fetch_and_save_pass_stats` durchläuft eine Schleife von 1 bis 34 (Spieltage), ruft Daten von einer Webseite ab, extrahiert relevante Daten und speichert sie in der Datenbank.\n",
    "\n",
    "Der Code spezifisch für die Bundesliga-Passstatistiken von der Webseite \"www.sport.de\".\n",
    "</span>\n"
   ]
  },
  {
   "cell_type": "code",
   "execution_count": 2,
   "metadata": {},
   "outputs": [],
   "source": [
    "def connect_and_save_data(matchday, team_name, pass_percentage):\n",
    "    try:\n",
    "        connection = psycopg2.connect(\n",
    "            dbname='PSQL_ADSFS2023Gruppe15',\n",
    "            user='ADSFS2023Gruppe15',\n",
    "            password='ADS_FS_2023_G15!?',\n",
    "            host='localhost',\n",
    "            port='5432'\n",
    "        )\n",
    "\n",
    "        cursor = connection.cursor()\n",
    "\n",
    "        # Füge die extrahierten Daten in die Tabelle ein\n",
    "        insert_data_query = '''\n",
    "            INSERT INTO bundesliga_pass_stats (matchday, team_name, pass_percentage) VALUES (%s, %s, %s);\n",
    "        '''\n",
    "        cursor.execute(insert_data_query, (matchday, team_name, float(pass_percentage.replace(',', '.'))))\n",
    "        connection.commit()\n",
    "\n",
    "    except (Exception, psycopg2.Error) as error:\n",
    "        print('Fehler beim Verbinden mit der PostgreSQL-Datenbank:', error)\n",
    "    finally:\n",
    "        # Schließe die Verbindung\n",
    "        if connection:\n",
    "            cursor.close()\n",
    "            connection.close()\n",
    "            \n",
    "\n",
    "# Durchlaufe die Spieltage (md1 bis md34) und lade die Daten für jeden Spieltag\n",
    "def fetch_and_save_pass_stats():\n",
    "    for matchday in range(1, 35):\n",
    "        url = f'https://www.sport.de/fussball/deutschland-bundesliga/se45495/2022-2023/ro132754/spieltag/md{matchday}/teamstatistik-paesse/'\n",
    "        response = requests.get(url)\n",
    "\n",
    "        if response.status_code == 200:\n",
    "            soup = BeautifulSoup(response.text, 'html.parser')\n",
    "\n",
    "            # Suche nach allen Mannschaftsnamen und Passquoten\n",
    "            team_elements = soup.find_all('td', class_='team-name team-name-list')\n",
    "            pass_percentage_elements = soup.find_all('td', class_='team_stats-passes_complete_percentage team_stats-passes_complete_percentage-format')\n",
    "\n",
    "        # Iteriere über die gefundenen Elemente und extrahiere die gewünschten Informationen\n",
    "        for team_element, pass_percentage_element in zip(team_elements, pass_percentage_elements):\n",
    "            team_name = team_element.text.strip()\n",
    "            pass_percentage = pass_percentage_element.text.strip()\n",
    "\n",
    "            # Speichere die Daten in der PostgreSQL-Datenbank\n",
    "            connect_and_save_data(matchday, team_name, pass_percentage)\n",
    "\n",
    "    else:\n",
    "        print(f'Fehler beim Abrufen der Webseite für Spieltag {matchday}')\n",
    "\n",
    "fetch_and_save_pass_stats()        "
   ]
  }
 ],
 "metadata": {
  "kernelspec": {
   "display_name": "Python 3",
   "language": "python",
   "name": "python3"
  },
  "language_info": {
   "codemirror_mode": {
    "name": "ipython",
    "version": 3
   },
   "file_extension": ".py",
   "mimetype": "text/x-python",
   "name": "python",
   "nbconvert_exporter": "python",
   "pygments_lexer": "ipython3",
   "version": "3.11.0"
  },
  "orig_nbformat": 4,
  "vscode": {
   "interpreter": {
    "hash": "c261aea317cc0286b3b3261fbba9abdec21eaa57589985bb7a274bf54d6cc0a7"
   }
  }
 },
 "nbformat": 4,
 "nbformat_minor": 2
}
