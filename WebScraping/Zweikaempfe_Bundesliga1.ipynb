{
 "cells": [
  {
   "attachments": {},
   "cell_type": "markdown",
   "metadata": {},
   "source": [
    "### Imports"
   ]
  },
  {
   "cell_type": "code",
   "execution_count": 1,
   "metadata": {},
   "outputs": [],
   "source": [
    "import requests\n",
    "from bs4 import BeautifulSoup\n",
    "import psycopg2"
   ]
  },
  {
   "attachments": {},
   "cell_type": "markdown",
   "metadata": {},
   "source": [
    "### Connection (URL, DB) / Create Table / Import"
   ]
  },
  {
   "cell_type": "code",
   "execution_count": 2,
   "metadata": {},
   "outputs": [],
   "source": [
    "import requests\n",
    "from bs4 import BeautifulSoup\n",
    "import psycopg2\n",
    "\n",
    "\n",
    "def connect_and_save_data(matchday, team_name, value):\n",
    "    try:\n",
    "        connection = psycopg2.connect(\n",
    "            dbname='PSQL_ADSFS2023Gruppe15',\n",
    "            user='ADSFS2023Gruppe15',\n",
    "            password='ADS_FS_2023_G15!?',\n",
    "            host='localhost',\n",
    "            port='5432'\n",
    "        )\n",
    "\n",
    "        cursor = connection.cursor()\n",
    "\n",
    "        insert_data_query = '''\n",
    "            INSERT INTO bundesliga_duels_stats (matchday, team_name, value)\n",
    "            VALUES (%s, %s, %s);\n",
    "        '''\n",
    "        cursor.execute(insert_data_query, (matchday, team_name, value))\n",
    "        connection.commit()\n",
    "\n",
    "    except (Exception, psycopg2.Error) as error:\n",
    "        print('Fehler beim Verbinden mit der PostgreSQL-Datenbank:', error)\n",
    "    finally:\n",
    "        # Schließe die Verbindung\n",
    "        if connection:\n",
    "            cursor.close()\n",
    "            connection.close()\n",
    "\n",
    "\n",
    "def fetch_and_save_duels_stats():\n",
    "    for matchday in range(1, 35):\n",
    "        url = f'https://www.sport.de/fussball/deutschland-bundesliga/se45495/2022-2023/ro132754/spieltag/md{matchday}/teamstatistik-zweikaempfe/'\n",
    "        response = requests.get(url)\n",
    "\n",
    "        if response.status_code == 200:\n",
    "            soup = BeautifulSoup(response.text, 'html.parser')\n",
    "\n",
    "            team_elements = soup.find_all('td', class_='team-name team-name-list')\n",
    "            duels_elements = soup.find_all('td', class_='team_stats-duels team_stats-duels-list')\n",
    "\n",
    "            for team_element, duels_element in zip(team_elements, duels_elements):\n",
    "                team_name = team_element.text.strip()\n",
    "                duels_value = duels_element.text.strip()\n",
    "\n",
    "                connect_and_save_data(matchday, team_name, duels_value)\n",
    "\n",
    "        else:\n",
    "            print(f'Fehler beim Abrufen der Webseite für Spieltag {matchday} und Zweikämpfe')\n",
    "\n",
    "\n",
    "fetch_and_save_duels_stats()"
   ]
  }
 ],
 "metadata": {
  "kernelspec": {
   "display_name": "adsenv",
   "language": "python",
   "name": "python3"
  },
  "language_info": {
   "codemirror_mode": {
    "name": "ipython",
    "version": 3
   },
   "file_extension": ".py",
   "mimetype": "text/x-python",
   "name": "python",
   "nbconvert_exporter": "python",
   "pygments_lexer": "ipython3",
   "version": "3.10.9 | packaged by conda-forge | (main, Jan 11 2023, 15:15:40) [MSC v.1916 64 bit (AMD64)]"
  },
  "orig_nbformat": 4,
  "vscode": {
   "interpreter": {
    "hash": "cf1ba55af98fa155eb6f9507898a012b292e4dea61caf6d17930c9c692d43aca"
   }
  }
 },
 "nbformat": 4,
 "nbformat_minor": 2
}
